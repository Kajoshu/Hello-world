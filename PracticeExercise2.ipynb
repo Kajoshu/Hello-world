{
 "cells": [
  {
   "cell_type": "markdown",
   "metadata": {},
   "source": [
    "## Question1   "
   ]
  },
  {
   "cell_type": "code",
   "execution_count": 6,
   "metadata": {},
   "outputs": [
    {
     "name": "stdout",
     "output_type": "stream",
     "text": [
      "Enter a number: 43\n",
      "Enter the second number: 32\n"
     ]
    },
    {
     "data": {
      "text/plain": [
       "75"
      ]
     },
     "execution_count": 6,
     "metadata": {},
     "output_type": "execute_result"
    }
   ],
   "source": [
    "a = int(input(\"Enter a number: \"))\n",
    "b = int(input(\"Enter the second number: \"))\n",
    "def sum(a,b):\n",
    "    return(a+b)\n",
    "sum(a,b)"
   ]
  },
  {
   "cell_type": "markdown",
   "metadata": {},
   "source": [
    "## Question2"
   ]
  },
  {
   "cell_type": "code",
   "execution_count": 12,
   "metadata": {},
   "outputs": [
    {
     "name": "stdout",
     "output_type": "stream",
     "text": [
      "Enter a number: 32\n"
     ]
    },
    {
     "data": {
      "text/plain": [
       "'32'"
      ]
     },
     "execution_count": 12,
     "metadata": {},
     "output_type": "execute_result"
    }
   ],
   "source": [
    "number = int(input(\"Enter a number: \"))\n",
    "def converter(number):\n",
    "    return str(number)\n",
    "number2 = converter(number) \n",
    "number2"
   ]
  },
  {
   "cell_type": "markdown",
   "metadata": {},
   "source": [
    "## Question3"
   ]
  },
  {
   "cell_type": "code",
   "execution_count": 15,
   "metadata": {},
   "outputs": [
    {
     "name": "stdout",
     "output_type": "stream",
     "text": [
      "Enter the first number: 23\n",
      "Enter the second number: 12\n"
     ]
    },
    {
     "data": {
      "text/plain": [
       "35"
      ]
     },
     "execution_count": 15,
     "metadata": {},
     "output_type": "execute_result"
    }
   ],
   "source": [
    "a = input(\"Enter the first number: \")\n",
    "b = input(\"Enter the second number: \")\n",
    "\n",
    "def addition(a,b):\n",
    "    return(int(a)+int(b))\n",
    "addition(a,b)"
   ]
  },
  {
   "cell_type": "markdown",
   "metadata": {},
   "source": [
    "## Question4"
   ]
  },
  {
   "cell_type": "code",
   "execution_count": 15,
   "metadata": {},
   "outputs": [
    {
     "name": "stdout",
     "output_type": "stream",
     "text": [
      "Enter your first name: Ken\n",
      "Enter your second name: Hug\n",
      "Ken Hug\n"
     ]
    }
   ],
   "source": [
    "name1 = input(\"Enter your first name: \")\n",
    "name2 = input(\"Enter your second name: \")\n",
    "\n",
    "def name(name1,name2):\n",
    "    return (name1 +' ' + name2)\n",
    "name(name1,name2)\n",
    "\n",
    "print(name(name1,name2))"
   ]
  },
  {
   "cell_type": "markdown",
   "metadata": {},
   "source": [
    "## Question5"
   ]
  },
  {
   "cell_type": "code",
   "execution_count": 4,
   "metadata": {},
   "outputs": [
    {
     "name": "stdout",
     "output_type": "stream",
     "text": [
      "Enter a number: 2\n",
      "It is an even number\n"
     ]
    }
   ],
   "source": [
    "number3 = int(input(\"Enter a number: \"))\n",
    "def even_odd(number3):\n",
    "    if number3 % 2 ==0:\n",
    "        print(\"It is an even number\")\n",
    "    else:\n",
    "        print(\"It is an odd number\")\n",
    "even_odd(number3)\n"
   ]
  },
  {
   "cell_type": "code",
   "execution_count": 16,
   "metadata": {},
   "outputs": [
    {
     "name": "stdout",
     "output_type": "stream",
     "text": [
      "Enter a number: qw\n",
      "That is not a number\n"
     ]
    }
   ],
   "source": [
    "try:\n",
    "    number3 = int(input(\"Enter a number: \"))\n",
    "    def even_odd(number3):\n",
    "        if number3 % 2 ==0:\n",
    "            return(\"It is an even number\")\n",
    "        else:\n",
    "            return(\"It is an odd number\")\n",
    "    number5 = even_odd(number3)\n",
    "    print(number5)\n",
    "except:\n",
    "    print(\"That is not a number\")\n",
    "\n"
   ]
  },
  {
   "cell_type": "markdown",
   "metadata": {},
   "source": [
    "## Question6"
   ]
  },
  {
   "cell_type": "code",
   "execution_count": null,
   "metadata": {},
   "outputs": [],
   "source": []
  }
 ],
 "metadata": {
  "kernelspec": {
   "display_name": "Python 3",
   "language": "python",
   "name": "python3"
  },
  "language_info": {
   "codemirror_mode": {
    "name": "ipython",
    "version": 3
   },
   "file_extension": ".py",
   "mimetype": "text/x-python",
   "name": "python",
   "nbconvert_exporter": "python",
   "pygments_lexer": "ipython3",
   "version": "3.7.3"
  }
 },
 "nbformat": 4,
 "nbformat_minor": 2
}
